{
 "cells": [
  {
   "cell_type": "markdown",
   "id": "3e32ade8",
   "metadata": {},
   "source": [
    "# Preprocess h5ad files for MAST\n",
    "\n",
    "Last updated: 06/14/2022\n",
    "\n",
    "- This script could ultimately be a function that is incorporated into the sc-utils\n",
    "\n",
    "- This function grabs an Anndata(h5ad) file and check whether there is a \"counts\" layer, if so, convert the adata.X to that layer.\n",
    "- If there's no \"counts\" layer, it should throw an error message. \n",
    "- [Optional] What we could do is use the np.sum(adata.X.todense(),1) and see if this value is integer or not, then throw an error.\n",
    "- [Optional] We could also check whether the adata.X is log-normalized by using np.expm1"
   ]
  },
  {
   "cell_type": "code",
   "execution_count": 17,
   "id": "52ed4f2c",
   "metadata": {},
   "outputs": [],
   "source": [
    "import pandas as pd\n",
    "import scanpy as sc\n",
    "import anndata as ad\n",
    "import numpy as np\n",
    "\n",
    "# define the function\n",
    "def preprocess_h5ad_to_raw_counts(filepath, filename):\n",
    "    # import the anndata\n",
    "    adata = sc.read_h5ad(filepath+filename+'.h5ad')\n",
    "    \n",
    "    # check if there is \"counts\" layer in this anndata\n",
    "    if \"counts\" in adata.layers:\n",
    "        adata.X = adata.layers[\"counts\"]\n",
    "        \n",
    "        # save the anndata\n",
    "        adata.write_h5ad(filepath+filename+'_rawCounts.h5ad')\n",
    "        # return adata\n",
    "        return adata\n",
    "    else:\n",
    "        print('error: counts layer does not exist. Check your AnnData.')\n",
    "        \n",
    "\n",
    "\n"
   ]
  },
  {
   "cell_type": "markdown",
   "id": "4f3026ab",
   "metadata": {},
   "source": [
    "## Convert all four h5ad objects from XAUT1/XAUT2- Blood and Biopsies, respectively"
   ]
  },
  {
   "cell_type": "code",
   "execution_count": 22,
   "id": "04047f65",
   "metadata": {
    "scrolled": true
   },
   "outputs": [],
   "source": [
    "# XAUT1 - Blood\n",
    "filepath = '/mnt/ibm_lg/yangjoon.kim/UC_UCSF_Multiome/XAUT1/RNA_Seq_data/merged_SCG11_14_Blood/Cellxgene/Blood MK version/'\n",
    "filename = '22_6_13_blood_RNA_V6'\n",
    "\n",
    "adata_test = preprocess_h5ad_to_raw_counts(filepath, filename)"
   ]
  },
  {
   "cell_type": "code",
   "execution_count": 23,
   "id": "e93648cb",
   "metadata": {
    "scrolled": false
   },
   "outputs": [
    {
     "data": {
      "text/plain": [
       "matrix([[2446.],\n",
       "        [ 179.],\n",
       "        [2798.],\n",
       "        ...,\n",
       "        [1753.],\n",
       "        [2598.],\n",
       "        [3074.]])"
      ]
     },
     "execution_count": 23,
     "metadata": {},
     "output_type": "execute_result"
    }
   ],
   "source": [
    "# test if the raw counts conversion worked well\n",
    "np.sum(adata_test.X.todense(),1)"
   ]
  },
  {
   "cell_type": "code",
   "execution_count": 24,
   "id": "6b7910a7",
   "metadata": {},
   "outputs": [],
   "source": [
    "# XAUT1 - Biopsies\n",
    "filepath = '/mnt/ibm_lg/yangjoon.kim/UC_UCSF_Multiome/XAUT1/RNA_Seq_data/merged_SCG1_10_Biopsies/Cellxgene/MK_version/'\n",
    "filename = '22_6_13_RNA'\n",
    "\n",
    "adata_test = preprocess_h5ad_to_raw_counts(filepath, filename)"
   ]
  },
  {
   "cell_type": "code",
   "execution_count": 26,
   "id": "7c95199a",
   "metadata": {},
   "outputs": [
    {
     "data": {
      "text/plain": [
       "matrix([[ 700.],\n",
       "        [1974.],\n",
       "        [ 270.],\n",
       "        ...,\n",
       "        [1995.],\n",
       "        [6917.],\n",
       "        [2073.]], dtype=float32)"
      ]
     },
     "execution_count": 26,
     "metadata": {},
     "output_type": "execute_result"
    }
   ],
   "source": [
    "# test if the raw counts conversion worked well\n",
    "np.sum(adata_test.X.todense(),1)"
   ]
  },
  {
   "cell_type": "code",
   "execution_count": 27,
   "id": "b51c35e4",
   "metadata": {},
   "outputs": [],
   "source": [
    "# XAUT2 - Blood\n",
    "filepath = '/mnt/ibm_lg/yangjoon.kim/UC_UCSF_Multiome/XAUT2/RNA_Seq_data/merged_SCG9_12_Blood/Cellxgene/'\n",
    "filename = '220613_blood_RNA'\n",
    "\n",
    "adata_test = preprocess_h5ad_to_raw_counts(filepath, filename)"
   ]
  },
  {
   "cell_type": "code",
   "execution_count": 28,
   "id": "3793e8a9",
   "metadata": {},
   "outputs": [
    {
     "data": {
      "text/plain": [
       "matrix([[3106.],\n",
       "        [7262.],\n",
       "        [3688.],\n",
       "        ...,\n",
       "        [2495.],\n",
       "        [3016.],\n",
       "        [1724.]], dtype=float32)"
      ]
     },
     "execution_count": 28,
     "metadata": {},
     "output_type": "execute_result"
    }
   ],
   "source": [
    "# test if the raw counts conversion worked well\n",
    "np.sum(adata_test.X.todense(),1)"
   ]
  },
  {
   "cell_type": "code",
   "execution_count": 29,
   "id": "c0a49d4a",
   "metadata": {},
   "outputs": [],
   "source": [
    "# XAUT2 - Biopsies\n",
    "filepath = '/mnt/ibm_lg/yangjoon.kim/UC_UCSF_Multiome/XAUT2/RNA_Seq_data/merged_SCG1_8_Biopsies/Cellxgene/'\n",
    "filename = '220613_biopsy_RNA'\n",
    "\n",
    "adata_test = preprocess_h5ad_to_raw_counts(filepath, filename)"
   ]
  },
  {
   "cell_type": "code",
   "execution_count": 30,
   "id": "5950fc04",
   "metadata": {},
   "outputs": [
    {
     "data": {
      "text/plain": [
       "matrix([[ 2191.],\n",
       "        [12651.],\n",
       "        [ 3286.],\n",
       "        ...,\n",
       "        [19421.],\n",
       "        [16452.],\n",
       "        [25064.]], dtype=float32)"
      ]
     },
     "execution_count": 30,
     "metadata": {},
     "output_type": "execute_result"
    }
   ],
   "source": [
    "# test if the raw counts conversion worked well\n",
    "np.sum(adata_test.X.todense(),1)"
   ]
  }
 ],
 "metadata": {
  "kernelspec": {
   "display_name": "Python 3 (ipykernel)",
   "language": "python",
   "name": "python3"
  },
  "language_info": {
   "codemirror_mode": {
    "name": "ipython",
    "version": 3
   },
   "file_extension": ".py",
   "mimetype": "text/x-python",
   "name": "python",
   "nbconvert_exporter": "python",
   "pygments_lexer": "ipython3",
   "version": "3.9.5"
  }
 },
 "nbformat": 4,
 "nbformat_minor": 5
}
